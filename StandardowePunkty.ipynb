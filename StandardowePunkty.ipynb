{
 "cells": [
  {
   "cell_type": "code",
   "execution_count": 8,
   "metadata": {},
   "outputs": [],
   "source": [
    "def to_c(temp):\n",
    "    return 9. * temp / 5 + 32\n",
    "def to_f(temp):\n",
    "    return (5. / 9) * (temp - 32)"
   ]
  },
  {
   "cell_type": "code",
   "execution_count": 9,
   "metadata": {},
   "outputs": [
    {
     "name": "stdout",
     "output_type": "stream",
     "text": [
      "25.0\n"
     ]
    }
   ],
   "source": [
    "print(to_c(to_f(25)))"
   ]
  },
  {
   "cell_type": "code",
   "execution_count": 10,
   "metadata": {},
   "outputs": [
    {
     "name": "stdout",
     "output_type": "stream",
     "text": [
      "48.00000000000001\n"
     ]
    }
   ],
   "source": [
    "print (to_f(to_c(48)))"
   ]
  },
  {
   "cell_type": "code",
   "execution_count": 44,
   "metadata": {},
   "outputs": [],
   "source": [
    "class Temperature(object):\n",
    "    def __init__(self, value, scale):\n",
    "        if scale.lower() == 'k':\n",
    "            self._kelvin = float(value)\n",
    "        elif scale.lower() == 'c':\n",
    "            self._kelvin = value + 273.15\n",
    "        elif scale.lower() == 'f':\n",
    "            self._kelvin = (value + 459.67) * 5./9\n",
    "        else:\n",
    "            raise ValueError(\"Unknown scale; use 'k', 'c' or 'f'.\")\n",
    "        \n",
    "    def to_c(self):\n",
    "        return self._kelvin - 273.15\n",
    "    \n",
    "    def to_f(self):\n",
    "        return (self._kelvin * 9/5) - 459.67\n",
    "        \n",
    "    def k(self):\n",
    "        return str(self._kelvin) + ' K'\n",
    "        \n",
    "    def c(self):\n",
    "        return str(self.to_c()) + ' C'\n",
    "    \n",
    "    def f(self):\n",
    "        return str(self.to_f()) + ' F'"
   ]
  },
  {
   "cell_type": "code",
   "execution_count": 45,
   "metadata": {},
   "outputs": [
    {
     "data": {
      "text/plain": [
       "'211.99999999999994 F'"
      ]
     },
     "execution_count": 45,
     "metadata": {},
     "output_type": "execute_result"
    }
   ],
   "source": [
    "cel = Temperature(100, 'c')\n",
    "cel.f()"
   ]
  },
  {
   "cell_type": "code",
   "execution_count": 46,
   "metadata": {},
   "outputs": [
    {
     "ename": "ValueError",
     "evalue": "Unknown scale; use 'k', 'c' or 'f'.",
     "output_type": "error",
     "traceback": [
      "\u001b[1;31m---------------------------------------------------------------------------\u001b[0m",
      "\u001b[1;31mValueError\u001b[0m                                Traceback (most recent call last)",
      "\u001b[1;32me:\\Programming\\Python\\Odkrywanie Kodu\\StandardowePunkty.ipynb Cell 6'\u001b[0m in \u001b[0;36m<cell line: 1>\u001b[1;34m()\u001b[0m\n\u001b[1;32m----> <a href='vscode-notebook-cell:/e%3A/Programming/Python/Odkrywanie%20Kodu/StandardowePunkty.ipynb#ch0000005?line=0'>1</a>\u001b[0m te \u001b[39m=\u001b[39m Temperature(\u001b[39m55\u001b[39;49m, \u001b[39m'\u001b[39;49m\u001b[39ml\u001b[39;49m\u001b[39m'\u001b[39;49m)\n",
      "\u001b[1;32me:\\Programming\\Python\\Odkrywanie Kodu\\StandardowePunkty.ipynb Cell 4'\u001b[0m in \u001b[0;36mTemperature.__init__\u001b[1;34m(self, value, scale)\u001b[0m\n\u001b[0;32m      <a href='vscode-notebook-cell:/e%3A/Programming/Python/Odkrywanie%20Kodu/StandardowePunkty.ipynb#ch0000003?line=7'>8</a>\u001b[0m     \u001b[39mself\u001b[39m\u001b[39m.\u001b[39m_kelvin \u001b[39m=\u001b[39m (value \u001b[39m+\u001b[39m \u001b[39m459.67\u001b[39m) \u001b[39m*\u001b[39m \u001b[39m5.\u001b[39m\u001b[39m/\u001b[39m\u001b[39m9\u001b[39m\n\u001b[0;32m      <a href='vscode-notebook-cell:/e%3A/Programming/Python/Odkrywanie%20Kodu/StandardowePunkty.ipynb#ch0000003?line=8'>9</a>\u001b[0m \u001b[39melse\u001b[39;00m:\n\u001b[1;32m---> <a href='vscode-notebook-cell:/e%3A/Programming/Python/Odkrywanie%20Kodu/StandardowePunkty.ipynb#ch0000003?line=9'>10</a>\u001b[0m     \u001b[39mraise\u001b[39;00m \u001b[39mValueError\u001b[39;00m(\u001b[39m\"\u001b[39m\u001b[39mUnknown scale; use \u001b[39m\u001b[39m'\u001b[39m\u001b[39mk\u001b[39m\u001b[39m'\u001b[39m\u001b[39m, \u001b[39m\u001b[39m'\u001b[39m\u001b[39mc\u001b[39m\u001b[39m'\u001b[39m\u001b[39m or \u001b[39m\u001b[39m'\u001b[39m\u001b[39mf\u001b[39m\u001b[39m'\u001b[39m\u001b[39m.\u001b[39m\u001b[39m\"\u001b[39m)\n",
      "\u001b[1;31mValueError\u001b[0m: Unknown scale; use 'k', 'c' or 'f'."
     ]
    }
   ],
   "source": [
    "te = Temperature(55, 'l')"
   ]
  },
  {
   "cell_type": "code",
   "execution_count": 50,
   "metadata": {},
   "outputs": [],
   "source": [
    "def factorial(n):\n",
    "    result = 1\n",
    "    for i in range(1, n+1):\n",
    "        result *= i\n",
    "    return result\n",
    "\n",
    "def fact(n):\n",
    "    if (n < 0):\n",
    "        raise ValueError('Negative factorials are undefined.')\n",
    "    return n*factorial(n-1) if n >= 1 else 1\n",
    "    \n",
    "def factorial_sum(n):\n",
    "    return sum(fact(element) for element in range(1, n+1))"
   ]
  },
  {
   "cell_type": "code",
   "execution_count": 51,
   "metadata": {},
   "outputs": [
    {
     "data": {
      "text/plain": [
       "1"
      ]
     },
     "execution_count": 51,
     "metadata": {},
     "output_type": "execute_result"
    }
   ],
   "source": [
    "fact(0)"
   ]
  },
  {
   "cell_type": "code",
   "execution_count": 52,
   "metadata": {},
   "outputs": [
    {
     "ename": "ValueError",
     "evalue": "Negative factorials are undefined.",
     "output_type": "error",
     "traceback": [
      "\u001b[1;31m---------------------------------------------------------------------------\u001b[0m",
      "\u001b[1;31mValueError\u001b[0m                                Traceback (most recent call last)",
      "\u001b[1;32me:\\Programming\\Python\\Odkrywanie Kodu\\StandardowePunkty.ipynb Cell 9'\u001b[0m in \u001b[0;36m<cell line: 1>\u001b[1;34m()\u001b[0m\n\u001b[1;32m----> <a href='vscode-notebook-cell:/e%3A/Programming/Python/Odkrywanie%20Kodu/StandardowePunkty.ipynb#ch0000009?line=0'>1</a>\u001b[0m fact(\u001b[39m-\u001b[39;49m\u001b[39m6\u001b[39;49m)\n",
      "\u001b[1;32me:\\Programming\\Python\\Odkrywanie Kodu\\StandardowePunkty.ipynb Cell 7'\u001b[0m in \u001b[0;36mfact\u001b[1;34m(n)\u001b[0m\n\u001b[0;32m      <a href='vscode-notebook-cell:/e%3A/Programming/Python/Odkrywanie%20Kodu/StandardowePunkty.ipynb#ch0000006?line=6'>7</a>\u001b[0m \u001b[39mdef\u001b[39;00m \u001b[39mfact\u001b[39m(n):\n\u001b[0;32m      <a href='vscode-notebook-cell:/e%3A/Programming/Python/Odkrywanie%20Kodu/StandardowePunkty.ipynb#ch0000006?line=7'>8</a>\u001b[0m     \u001b[39mif\u001b[39;00m (n \u001b[39m<\u001b[39m \u001b[39m0\u001b[39m):\n\u001b[1;32m----> <a href='vscode-notebook-cell:/e%3A/Programming/Python/Odkrywanie%20Kodu/StandardowePunkty.ipynb#ch0000006?line=8'>9</a>\u001b[0m         \u001b[39mraise\u001b[39;00m \u001b[39mValueError\u001b[39;00m(\u001b[39m'\u001b[39m\u001b[39mNegative factorials are undefined.\u001b[39m\u001b[39m'\u001b[39m)\n\u001b[0;32m     <a href='vscode-notebook-cell:/e%3A/Programming/Python/Odkrywanie%20Kodu/StandardowePunkty.ipynb#ch0000006?line=9'>10</a>\u001b[0m     \u001b[39mreturn\u001b[39;00m n\u001b[39m*\u001b[39mfactorial(n\u001b[39m-\u001b[39m\u001b[39m1\u001b[39m) \u001b[39mif\u001b[39;00m n \u001b[39m>\u001b[39m\u001b[39m=\u001b[39m \u001b[39m1\u001b[39m \u001b[39melse\u001b[39;00m \u001b[39m1\u001b[39m\n",
      "\u001b[1;31mValueError\u001b[0m: Negative factorials are undefined."
     ]
    }
   ],
   "source": [
    "fact(-6)"
   ]
  },
  {
   "cell_type": "code",
   "execution_count": 53,
   "metadata": {},
   "outputs": [
    {
     "data": {
      "text/plain": [
       "33"
      ]
     },
     "execution_count": 53,
     "metadata": {},
     "output_type": "execute_result"
    }
   ],
   "source": [
    "factorial_sum(4)"
   ]
  },
  {
   "cell_type": "code",
   "execution_count": 54,
   "metadata": {},
   "outputs": [
    {
     "data": {
      "text/plain": [
       "720"
      ]
     },
     "execution_count": 54,
     "metadata": {},
     "output_type": "execute_result"
    }
   ],
   "source": [
    "factorial(6)"
   ]
  },
  {
   "cell_type": "code",
   "execution_count": 55,
   "metadata": {},
   "outputs": [
    {
     "data": {
      "text/plain": [
       "120"
      ]
     },
     "execution_count": 55,
     "metadata": {},
     "output_type": "execute_result"
    }
   ],
   "source": [
    "fact(5)"
   ]
  },
  {
   "cell_type": "code",
   "execution_count": 63,
   "metadata": {},
   "outputs": [
    {
     "data": {
      "text/plain": [
       "[16, 8, 26]"
      ]
     },
     "execution_count": 63,
     "metadata": {},
     "output_type": "execute_result"
    }
   ],
   "source": [
    "def doubler(sequence):\n",
    "    return [2*sequence[0]] + doubler(sequence[1:]) if len(sequence) > 0 else []\n",
    "\n",
    "doubler([8, 4, 13])"
   ]
  },
  {
   "cell_type": "code",
   "execution_count": 64,
   "metadata": {},
   "outputs": [],
   "source": [
    "def retards():\n",
    "    while(True):\n",
    "        print('Pa, pa!')"
   ]
  },
  {
   "cell_type": "code",
   "execution_count": null,
   "metadata": {},
   "outputs": [],
   "source": []
  }
 ],
 "metadata": {
  "interpreter": {
   "hash": "ad2bdc8ecc057115af97d19610ffacc2b4e99fae6737bb82f5d7fb13d2f2c186"
  },
  "kernelspec": {
   "display_name": "Python 3.9.12 ('base')",
   "language": "python",
   "name": "python3"
  },
  "language_info": {
   "codemirror_mode": {
    "name": "ipython",
    "version": 3
   },
   "file_extension": ".py",
   "mimetype": "text/x-python",
   "name": "python",
   "nbconvert_exporter": "python",
   "pygments_lexer": "ipython3",
   "version": "3.9.12"
  },
  "orig_nbformat": 4
 },
 "nbformat": 4,
 "nbformat_minor": 2
}
