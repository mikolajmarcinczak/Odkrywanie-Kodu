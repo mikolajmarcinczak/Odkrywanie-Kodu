{
 "cells": [
  {
   "cell_type": "code",
   "execution_count": 25,
   "metadata": {},
   "outputs": [
    {
     "data": {
      "text/plain": [
       "True"
      ]
     },
     "execution_count": 25,
     "metadata": {},
     "output_type": "execute_result"
    }
   ],
   "source": [
    "def palindrome(word):\n",
    "    return word.lower() == word[::-1].lower()\n",
    "\n",
    "palindrome('kajak')"
   ]
  },
  {
   "cell_type": "code",
   "execution_count": 41,
   "metadata": {},
   "outputs": [
    {
     "name": "stdout",
     "output_type": "stream",
     "text": [
      "kk: True\n",
      "aa: True\n",
      "jj: True\n",
      "aa: True\n",
      "kk: True\n"
     ]
    },
    {
     "data": {
      "text/plain": [
       "True"
      ]
     },
     "execution_count": 41,
     "metadata": {},
     "output_type": "execute_result"
    }
   ],
   "source": [
    "def pal(string):\n",
    "    right = -1\n",
    "    pal = True\n",
    "    for letter in string.lower():\n",
    "        pal = pal and letter == string[right]\n",
    "        print(letter + string[right] + ': ' + str(letter==string[right]))\n",
    "        right -= 1\n",
    "    return pal\n",
    "\n",
    "pal('kajak')"
   ]
  },
  {
   "cell_type": "code",
   "execution_count": 42,
   "metadata": {},
   "outputs": [
    {
     "name": "stdout",
     "output_type": "stream",
     "text": [
      "śa: False\n",
      "lc: False\n",
      "ii: True\n",
      "ww: True\n",
      "oo: True\n",
      "ww: True\n",
      "ii: True\n",
      "cl: False\n",
      "aś: False\n"
     ]
    },
    {
     "data": {
      "text/plain": [
       "False"
      ]
     },
     "execution_count": 42,
     "metadata": {},
     "output_type": "execute_result"
    }
   ],
   "source": [
    "pal('śliwowica')"
   ]
  },
  {
   "cell_type": "code",
   "execution_count": 43,
   "metadata": {},
   "outputs": [
    {
     "data": {
      "text/plain": [
       "True"
      ]
     },
     "execution_count": 43,
     "metadata": {},
     "output_type": "execute_result"
    }
   ],
   "source": [
    "def palr(string):\n",
    "    lowercase = string.lower()\n",
    "    if len(lowercase) > 1:\n",
    "        if lowercase[0] == lowercase[-1]:\n",
    "            return palr(lowercase[1:-1])\n",
    "        else:\n",
    "            return False\n",
    "    return True\n",
    "\n",
    "palr('baab')"
   ]
  },
  {
   "cell_type": "code",
   "execution_count": 44,
   "metadata": {},
   "outputs": [
    {
     "name": "stdout",
     "output_type": "stream",
     "text": [
      "True\n",
      "aa: True\n",
      "cb: False\n",
      "aa: True\n",
      "bc: False\n",
      "aa: True\n",
      "False\n"
     ]
    }
   ],
   "source": [
    "def palr(string):\n",
    "    if len(string) > 1:\n",
    "        if string[0] == string[-1]:\n",
    "            return palindrome(string[1:-1])\n",
    "        else:\n",
    "            return False\n",
    "    return True\n",
    "\n",
    "print(palr('baaab'))\n",
    "\n",
    "def palr(string):\n",
    "    if len(string) > 1:\n",
    "        if string[0] == string[-1]:\n",
    "            return pal(string[1:-1])\n",
    "        else:\n",
    "            return False\n",
    "    return True\n",
    "\n",
    "print(palr('bacabab'))"
   ]
  },
  {
   "cell_type": "code",
   "execution_count": 45,
   "metadata": {},
   "outputs": [
    {
     "data": {
      "text/plain": [
       "True"
      ]
     },
     "execution_count": 45,
     "metadata": {},
     "output_type": "execute_result"
    }
   ],
   "source": [
    "import re\n",
    "def palr_nospace(string):\n",
    "    text = re.sub('[\\s]', '', string.lower())\n",
    "    if len(text) > 1:\n",
    "        if text[0] == text[-1]:\n",
    "            return palr_nospace(text[1:-1])\n",
    "        else:\n",
    "            return False\n",
    "    return True\n",
    "\n",
    "palr_nospace('kobyła ma mały bok')"
   ]
  },
  {
   "cell_type": "code",
   "execution_count": 46,
   "metadata": {},
   "outputs": [
    {
     "name": "stdout",
     "output_type": "stream",
     "text": [
      "The Project Gutenberg eBook, Pride and Prejudice, by Jane Austen, Edited\n",
      "by R. W. (Robert William) Chapman\n",
      "\n",
      "\n",
      "This eBook is for the use of anyone anywhere at no cost and with\n",
      "almost no restrictions whatsoever.  You may copy it, give it away or\n",
      "re-use it under the terms of the Project Gutenberg License included\n",
      "with this eBook or online at www.gutenberg.org\n",
      "\n",
      "\n",
      "\n",
      "\n",
      "\n",
      "Title: Pride and Prejudice\n",
      "\n",
      "\n",
      "Author: Jane Austen\n",
      "\n",
      "Editor: R. W. (Robert William) Chapman\n",
      "\n",
      "Release Date: May 9, 2013  [eBook #42671]\n",
      "\n",
      "Language: English\n",
      "\n",
      "\n",
      "***START OF THE PROJECT GUTENBERG EBOOK PRIDE AND PREJUDICE***\n",
      "\n",
      "\n",
      "E-text prepared by Greg Weeks, Jon Hurst, Mary Meehan, and the Online\n",
      "Distributed Proofreading Team (http://www.pgdp.net) from page images\n",
      "generously made available by Internet Archive (https://archive.org)\n",
      "\n",
      "\n",
      "\n",
      "Note: Project Gutenberg also has an HTML version of this\n",
      "      file which includes the original illustrations.\n",
      "      See 42671-h.htm or 42671-h.zip:\n",
      "      (http://www.gutenberg.org/files/42671/42671-h/42671-h\n"
     ]
    }
   ],
   "source": [
    "source = open('pg42671.txt')\n",
    "pride = source.read()\n",
    "print(pride[:1000])"
   ]
  },
  {
   "cell_type": "code",
   "execution_count": 47,
   "metadata": {},
   "outputs": [
    {
     "data": {
      "text/plain": [
       "210405"
      ]
     },
     "execution_count": 47,
     "metadata": {},
     "output_type": "execute_result"
    }
   ],
   "source": [
    "result = re.findall('[aeiou]', pride.lower())\n",
    "len(result)"
   ]
  },
  {
   "cell_type": "code",
   "execution_count": 48,
   "metadata": {},
   "outputs": [
    {
     "name": "stdout",
     "output_type": "stream",
     "text": [
      "1775\n"
     ]
    },
    {
     "data": {
      "text/plain": [
       "['\"Sense and Sensibility.\"',\n",
       " '\"My dear Mr. Bennet,\"',\n",
       " '\"have you heard that\\nNetherfield Park is let at last?\"',\n",
       " '\"But it is,\"',\n",
       " '\"for Mrs. Long has just been here, and she\\ntold me all about it.\"',\n",
       " '\"Do not you want to know who has taken it?\"',\n",
       " '\"_You_ want to tell me, and I have no objection to hearing it.\"',\n",
       " '\"Why, my dear, you must know, Mrs. Long says that Netherfield is taken\\nby a young man of large fortune from the north of England; that he came\\ndown on Monday in a chaise and four to see the place, and was so much\\ndelighted with it that he agreed with Mr. Morris immediately; that he is\\nto take possession before Michaelmas, and some of his servants are to be\\nin the house by the end of next week.\"',\n",
       " '\"What is his name?\"',\n",
       " '\"Bingley.\"',\n",
       " '\"Is he married or single?\"',\n",
       " '\"Oh! single, my dear, to be sure! A single man of large fortune; four\\nor five thousand a year. What a fine thing for our girls!\"',\n",
       " '\"How so? how can it affect them?\"',\n",
       " '\"My dear Mr. Bennet,\"',\n",
       " '\"how can you be so tiresome! You\\nmust know that I am thinking of his marrying one of them.\"',\n",
       " '\"Is that his design in settling here?\"',\n",
       " '\"Design! nonsense, how can you talk so! But it is very likely that he\\n_may_ fall in love with one of them, and therefore you must visit him as\\nsoon as he comes.\"',\n",
       " '\"I see no occasion for that. You and the girls may go, or you may send\\nthem by themselves, which perhaps will be still better, for as you are\\nas handsome as any of them, Mr. Bingley might like you the best of the\\nparty.\"',\n",
       " '\"My dear, you flatter me. I certainly _have_ had my share of beauty, but\\nI do not pretend to be any thing extraordinary now. When a woman has\\nfive grown up daughters, she ought to give over thinking of her own\\nbeauty.\"',\n",
       " '\"In such cases, a woman has not often much beauty to think of.\"']"
      ]
     },
     "execution_count": 48,
     "metadata": {},
     "output_type": "execute_result"
    }
   ],
   "source": [
    "quotes = re.findall('\"[^\"]*\\r\\n\\r\\n|\"[^\"]*\"', pride)\n",
    "print(len(quotes))\n",
    "quotes[:20]\n"
   ]
  },
  {
   "cell_type": "code",
   "execution_count": 49,
   "metadata": {},
   "outputs": [
    {
     "data": {
      "text/plain": [
       "53.6529304840349"
      ]
     },
     "execution_count": 49,
     "metadata": {},
     "output_type": "execute_result"
    }
   ],
   "source": [
    "quote_percent = (len(''.join(quotes))/(len(pride)))*100\n",
    "quote_percent"
   ]
  },
  {
   "cell_type": "code",
   "execution_count": 50,
   "metadata": {},
   "outputs": [
    {
     "data": {
      "text/plain": [
       "381651"
      ]
     },
     "execution_count": 50,
     "metadata": {},
     "output_type": "execute_result"
    }
   ],
   "source": [
    "len(''.join(quotes))"
   ]
  },
  {
   "cell_type": "code",
   "execution_count": 51,
   "metadata": {},
   "outputs": [
    {
     "data": {
      "text/plain": [
       "'Hereisanicestringlalala'"
      ]
     },
     "execution_count": 51,
     "metadata": {},
     "output_type": "execute_result"
    }
   ],
   "source": [
    "test = 'Here is a nice string. la la la.'\n",
    "re.sub('\\W+', '', test)"
   ]
  },
  {
   "cell_type": "code",
   "execution_count": 52,
   "metadata": {},
   "outputs": [],
   "source": [
    "def prep(_string):\n",
    "    return re.sub('\\W+', '', _string)"
   ]
  },
  {
   "cell_type": "code",
   "execution_count": 56,
   "metadata": {},
   "outputs": [
    {
     "data": {
      "text/plain": [
       "True"
      ]
     },
     "execution_count": 56,
     "metadata": {},
     "output_type": "execute_result"
    }
   ],
   "source": [
    "palindrome(prep('Star comedy by Democrats'))"
   ]
  },
  {
   "cell_type": "code",
   "execution_count": 70,
   "metadata": {},
   "outputs": [
    {
     "data": {
      "text/plain": [
       "['29 Maj 2022 21:16',\n",
       " '29 Maj 2022 21:16',\n",
       " '29 Maj 2022 21:16',\n",
       " '29 Maj 2022 22:47',\n",
       " '29 Maj 2022 22:47',\n",
       " '29 Maj 2022 23:17',\n",
       " '29 Maj 2022 23:17',\n",
       " '30 Maj 2022 13:16',\n",
       " '30 Maj 2022 13:16',\n",
       " '30 Maj 2022 17:51',\n",
       " '30 Maj 2022 17:51',\n",
       " '31 Maj 2022 18:45',\n",
       " '31 Maj 2022 18:45',\n",
       " '31 Maj 2022 22:04',\n",
       " '31 Maj 2022 22:04',\n",
       " '31 Maj 2022 22:19',\n",
       " '31 Maj 2022 22:19',\n",
       " '31 Maj 2022 22:40',\n",
       " '31 Maj 2022 22:40',\n",
       " '31 Maj 2022 23:06',\n",
       " '31 Maj 2022 23:06',\n",
       " '31 Maj 2022 23:37',\n",
       " '31 Maj 2022 23:37',\n",
       " '01 Cze 2022 08:32',\n",
       " '01 Cze 2022 08:32',\n",
       " '01 Cze 2022 09:46',\n",
       " '01 Cze 2022 09:46',\n",
       " '01 Cze 2022 11:43',\n",
       " '01 Cze 2022 11:43',\n",
       " '01 Cze 2022 17:54',\n",
       " '01 Cze 2022 17:54',\n",
       " '01 Cze 2022 19:53',\n",
       " '01 Cze 2022 19:53',\n",
       " '02 Cze 2022 10:45',\n",
       " '02 Cze 2022 10:45',\n",
       " '04 Cze 2022 10:20',\n",
       " '04 Cze 2022 10:20',\n",
       " '04 Cze 2022 11:55',\n",
       " '04 Cze 2022 11:55']"
      ]
     },
     "execution_count": 70,
     "metadata": {},
     "output_type": "execute_result"
    }
   ],
   "source": [
    "#pobrac dane z html\n",
    "import requests\n",
    "from bs4 import BeautifulSoup\n",
    "\n",
    "def ex_date(text):\n",
    "    return re.findall('\\d{2}\\s\\w+\\s\\d{4}\\s\\d{2}:\\d{2}', text)\n",
    "\n",
    "url = 'https://www.elektroda.pl/rtvforum/topic3897216.html'\n",
    "req = requests.get(url)\n",
    "\n",
    "soup = BeautifulSoup(req.text, \"html.parser\")\n",
    "text = soup.get_text().strip()\n",
    "\n",
    "result = ex_date(text)\n",
    "result"
   ]
  },
  {
   "cell_type": "code",
   "execution_count": null,
   "metadata": {},
   "outputs": [],
   "source": []
  }
 ],
 "metadata": {
  "interpreter": {
   "hash": "ad2bdc8ecc057115af97d19610ffacc2b4e99fae6737bb82f5d7fb13d2f2c186"
  },
  "kernelspec": {
   "display_name": "Python 3.9.12 ('base')",
   "language": "python",
   "name": "python3"
  },
  "language_info": {
   "codemirror_mode": {
    "name": "ipython",
    "version": 3
   },
   "file_extension": ".py",
   "mimetype": "text/x-python",
   "name": "python",
   "nbconvert_exporter": "python",
   "pygments_lexer": "ipython3",
   "version": "3.9.12"
  },
  "orig_nbformat": 4
 },
 "nbformat": 4,
 "nbformat_minor": 2
}
