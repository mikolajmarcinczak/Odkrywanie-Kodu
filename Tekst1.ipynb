{
 "cells": [
  {
   "cell_type": "code",
   "execution_count": 1,
   "metadata": {},
   "outputs": [
    {
     "data": {
      "text/plain": [
       "0"
      ]
     },
     "execution_count": 1,
     "metadata": {},
     "output_type": "execute_result"
    }
   ],
   "source": [
    "len('')"
   ]
  },
  {
   "cell_type": "code",
   "execution_count": 2,
   "metadata": {},
   "outputs": [
    {
     "ename": "TypeError",
     "evalue": "object of type 'int' has no len()",
     "output_type": "error",
     "traceback": [
      "\u001b[1;31m---------------------------------------------------------------------------\u001b[0m",
      "\u001b[1;31mTypeError\u001b[0m                                 Traceback (most recent call last)",
      "\u001b[1;32me:\\Programming\\Python\\Odkrywanie Kodu\\Tekst1.ipynb Cell 2'\u001b[0m in \u001b[0;36m<cell line: 1>\u001b[1;34m()\u001b[0m\n\u001b[1;32m----> <a href='vscode-notebook-cell:/e%3A/Programming/Python/Odkrywanie%20Kodu/Tekst1.ipynb#ch0000001?line=0'>1</a>\u001b[0m \u001b[39mlen\u001b[39;49m(\u001b[39m2112\u001b[39;49m)\n",
      "\u001b[1;31mTypeError\u001b[0m: object of type 'int' has no len()"
     ]
    }
   ],
   "source": [
    "len(2112)"
   ]
  },
  {
   "cell_type": "code",
   "execution_count": 3,
   "metadata": {},
   "outputs": [
    {
     "data": {
      "text/plain": [
       "'211'"
      ]
     },
     "execution_count": 3,
     "metadata": {},
     "output_type": "execute_result"
    }
   ],
   "source": [
    "'2112'[0:3]"
   ]
  },
  {
   "cell_type": "code",
   "execution_count": 4,
   "metadata": {},
   "outputs": [
    {
     "data": {
      "text/plain": [
       "''"
      ]
     },
     "execution_count": 4,
     "metadata": {},
     "output_type": "execute_result"
    }
   ],
   "source": [
    "''[0:3]"
   ]
  },
  {
   "cell_type": "code",
   "execution_count": 6,
   "metadata": {},
   "outputs": [
    {
     "data": {
      "text/plain": [
       "''"
      ]
     },
     "execution_count": 6,
     "metadata": {},
     "output_type": "execute_result"
    }
   ],
   "source": [
    "'tramwaj niskopodłogowy'[450:500]"
   ]
  },
  {
   "cell_type": "code",
   "execution_count": 17,
   "metadata": {},
   "outputs": [
    {
     "data": {
      "text/plain": [
       "'tramwaj'"
      ]
     },
     "execution_count": 17,
     "metadata": {},
     "output_type": "execute_result"
    }
   ],
   "source": [
    "'tramwaj niskopodłogowy'[:7]"
   ]
  },
  {
   "cell_type": "code",
   "execution_count": 16,
   "metadata": {},
   "outputs": [
    {
     "data": {
      "text/plain": [
       "'niskopodłogowy'"
      ]
     },
     "execution_count": 16,
     "metadata": {},
     "output_type": "execute_result"
    }
   ],
   "source": [
    "'tramwa niskopodłogowy'[7:]"
   ]
  },
  {
   "cell_type": "code",
   "execution_count": 22,
   "metadata": {},
   "outputs": [
    {
     "data": {
      "text/plain": [
       "'02468'"
      ]
     },
     "execution_count": 22,
     "metadata": {},
     "output_type": "execute_result"
    }
   ],
   "source": [
    "'0123456789'[0:10:2]"
   ]
  },
  {
   "cell_type": "code",
   "execution_count": 23,
   "metadata": {},
   "outputs": [
    {
     "data": {
      "text/plain": [
       "'02468'"
      ]
     },
     "execution_count": 23,
     "metadata": {},
     "output_type": "execute_result"
    }
   ],
   "source": [
    "'0123456789'[::2]"
   ]
  },
  {
   "cell_type": "code",
   "execution_count": 24,
   "metadata": {},
   "outputs": [],
   "source": [
    "dziennik = 'Dżdżysty dziennik panny Sylwii / Od harmonii się oddalił.'"
   ]
  },
  {
   "cell_type": "code",
   "execution_count": 27,
   "metadata": {},
   "outputs": [
    {
     "name": "stdout",
     "output_type": "stream",
     "text": [
      "5\n"
     ]
    }
   ],
   "source": [
    "def charpair(i_string):\n",
    "    counter = 0\n",
    "    for c in range(len(i_string)):\n",
    "        if i_string[c].lower() == i_string[c-1].lower():\n",
    "                counter += 1\n",
    "    return counter\n",
    "\n",
    "print(charpair(dziennik))"
   ]
  },
  {
   "cell_type": "code",
   "execution_count": 28,
   "metadata": {},
   "outputs": [
    {
     "name": "stdout",
     "output_type": "stream",
     "text": [
      "1\n"
     ]
    }
   ],
   "source": [
    "print(charpair('Aaron'))"
   ]
  },
  {
   "cell_type": "code",
   "execution_count": 44,
   "metadata": {},
   "outputs": [
    {
     "name": "stdout",
     "output_type": "stream",
     "text": [
      "Wszyscy ludzie rodzą się wolni i równi pod względem swej godności i swych praw. Są oni obdarzeni rozumem i sumieniem i powinni postępować wobec innych w duchu braterstwa.\n"
     ]
    }
   ],
   "source": [
    "import requests\n",
    "import pdfplumber\n",
    "import re\n",
    "from io import BytesIO\n",
    "\n",
    "def str_between(s, start, end):\n",
    "    return re.sub('[\\n\\t\\r]', '', s[s.index(start)+len(start):s.index(end)]).strip()\n",
    "\n",
    "url = \"https://www.unesco.pl/fileadmin/user_upload/pdf/Powszechna_Deklaracja_Praw_Czlowieka.pdf\"\n",
    "req = requests.get(url)\n",
    "\n",
    "with pdfplumber.open(BytesIO(req.content)) as pdf:\n",
    "    text = pdf.pages[0].extract_text()\n",
    "    article = str_between(text, 'Artykuł 1', 'Artykuł 2')\n",
    "    \n",
    "print(article)"
   ]
  },
  {
   "cell_type": "code",
   "execution_count": 46,
   "metadata": {},
   "outputs": [
    {
     "data": {
      "text/plain": [
       "['Wszyscy',\n",
       " 'ludzie',\n",
       " 'rodzą',\n",
       " 'się',\n",
       " 'wolni',\n",
       " 'i',\n",
       " 'równi',\n",
       " 'pod',\n",
       " 'względem',\n",
       " 'swej',\n",
       " 'godności',\n",
       " 'i',\n",
       " 'swych',\n",
       " 'praw.',\n",
       " 'Są',\n",
       " 'oni',\n",
       " 'obdarzeni',\n",
       " 'rozumem',\n",
       " 'i',\n",
       " 'sumieniem',\n",
       " 'i',\n",
       " 'powinni',\n",
       " 'postępować',\n",
       " 'wobec',\n",
       " 'innych',\n",
       " 'w',\n",
       " 'duchu',\n",
       " 'braterstwa.']"
      ]
     },
     "execution_count": 46,
     "metadata": {},
     "output_type": "execute_result"
    }
   ],
   "source": [
    "article.split()"
   ]
  },
  {
   "cell_type": "code",
   "execution_count": 47,
   "metadata": {},
   "outputs": [
    {
     "data": {
      "text/plain": [
       "'Bob and/or Carol and/or Ted and/or Alice'"
      ]
     },
     "execution_count": 47,
     "metadata": {},
     "output_type": "execute_result"
    }
   ],
   "source": [
    "names = [\"Bob\", \"Carol\", 'Ted', 'Alice']\n",
    "\n",
    "' and/or '.join(names)"
   ]
  },
  {
   "cell_type": "code",
   "execution_count": 51,
   "metadata": {},
   "outputs": [
    {
     "name": "stdout",
     "output_type": "stream",
     "text": [
      "Bob istnieje.\n",
      "Carol istnieje.\n",
      "Ted istnieje.\n",
      "Alice\n"
     ]
    }
   ],
   "source": [
    "print(' istnieje.\\n'.join(names))"
   ]
  },
  {
   "cell_type": "code",
   "execution_count": 56,
   "metadata": {},
   "outputs": [
    {
     "name": "stdout",
     "output_type": "stream",
     "text": [
      "True\n",
      "False\n"
     ]
    }
   ],
   "source": [
    "def same_last(word1, word2):\n",
    "    return word1[-1] == word2[-1]\n",
    "\n",
    "print(same_last('Ania', 'Frania'))\n",
    "print(same_last('Python', 'Perl'))"
   ]
  },
  {
   "cell_type": "code",
   "execution_count": 58,
   "metadata": {},
   "outputs": [
    {
     "name": "stdout",
     "output_type": "stream",
     "text": [
      "True\n",
      "True\n"
     ]
    }
   ],
   "source": [
    "def count_spaces(_string):\n",
    "    return sum(1 if c == ' ' else 0 for c in _string)\n",
    "\n",
    "print(count_spaces('Jan złamał nogę.') == 2)\n",
    "print(count_spaces('B iałe  zna ki ') == 5)"
   ]
  },
  {
   "cell_type": "code",
   "execution_count": 65,
   "metadata": {},
   "outputs": [
    {
     "name": "stdout",
     "output_type": "stream",
     "text": [
      "6\n",
      "14\n",
      "6\n",
      "14\n",
      "6\n",
      "14\n"
     ]
    }
   ],
   "source": [
    "def count_nonspaces(_string):\n",
    "    return sum(1 if c != ' ' else 0 for c in _string)\n",
    "\n",
    "print(count_nonspaces('Sla lom'))\n",
    "print(count_nonspaces('Jan złamał nogę.'))\n",
    "\n",
    "def count_nonspaces2(_string):\n",
    "    return len(_string) - count_spaces(_string)\n",
    "\n",
    "print(count_nonspaces2('Sla lom'))\n",
    "print(count_nonspaces2('Jan złamał nogę.'))\n",
    "\n",
    "def count_nonspaces3(_string):\n",
    "    return len(re.sub('[\\s]', '', _string))\n",
    "\n",
    "print(count_nonspaces3('Sla lom'))\n",
    "print(count_nonspaces3('Jan złamał nogę.'))"
   ]
  },
  {
   "cell_type": "code",
   "execution_count": 79,
   "metadata": {},
   "outputs": [
    {
     "name": "stdout",
     "output_type": "stream",
     "text": [
      "IBM\n",
      "GP\n",
      "CB&B\n",
      "V\"P\n",
      "IBM\n",
      "GP\n",
      "CB&B\n",
      "V\"P\n"
     ]
    }
   ],
   "source": [
    "def initials(_string):\n",
    "    return ''.join([_string.split(' ')[i][0] for i in range(len(_string.split(' ')))])\n",
    "\n",
    "print(initials('International Business Machines'))\n",
    "print(initials('Georges Perec'))\n",
    "print(initials('Country, Bluegrass, & Blues'))\n",
    "print(initials('Vladimir \"Pucek\" Putin'))\n",
    "\n",
    "def initials2(_string):\n",
    "    return ''.join(i[0] for i in _string.split())\n",
    "\n",
    "print(initials2('International Business Machines'))\n",
    "print(initials2('Georges Perec'))\n",
    "print(initials2('Country, Bluegrass, & Blues'))\n",
    "print(initials2('Vladimir \"Pucek\" Putin'))"
   ]
  },
  {
   "cell_type": "code",
   "execution_count": 80,
   "metadata": {},
   "outputs": [
    {
     "name": "stdout",
     "output_type": "stream",
     "text": [
      "wtj śwc.\n",
      "Wptrjc mn trzcg dn  śwc.\n"
     ]
    }
   ],
   "source": [
    "def devowel(_string):\n",
    "    return re.sub('[aeyiou]', '', _string)\n",
    "\n",
    "print(devowel('witaj świecie.'))\n",
    "print(devowel('Wypatrujcie mnie trzeciego dnia o świcie.'))"
   ]
  },
  {
   "cell_type": "code",
   "execution_count": 82,
   "metadata": {},
   "outputs": [
    {
     "name": "stdout",
     "output_type": "stream",
     "text": [
      "jana\n",
      "jana\n",
      "jana\n"
     ]
    }
   ],
   "source": [
    "text='janajanajana'\n",
    "print(text[:4])\n",
    "print(text[4:8])\n",
    "print(text[8:])"
   ]
  },
  {
   "cell_type": "code",
   "execution_count": 100,
   "metadata": {},
   "outputs": [
    {
     "name": "stdout",
     "output_type": "stream",
     "text": [
      "False\n",
      "False\n",
      "True\n",
      "True\n"
     ]
    }
   ],
   "source": [
    "def tautonym(_string):\n",
    "    return _string[:(len(_string)//2)] == _string[(len(_string)//2):]\n",
    "\n",
    "#def tautonym2(_string):\n",
    "#    return (_string[:c] in _string[c:] for c in range(len(_string)))\n",
    "\n",
    "print(tautonym(text))\n",
    "print(tautonym('witaj świecie'))\n",
    "print(tautonym('świecieświecie'))\n",
    "print(tautonym('kotukotu'))\n"
   ]
  }
 ],
 "metadata": {
  "interpreter": {
   "hash": "ad2bdc8ecc057115af97d19610ffacc2b4e99fae6737bb82f5d7fb13d2f2c186"
  },
  "kernelspec": {
   "display_name": "Python 3.9.12 ('base')",
   "language": "python",
   "name": "python3"
  },
  "language_info": {
   "codemirror_mode": {
    "name": "ipython",
    "version": 3
   },
   "file_extension": ".py",
   "mimetype": "text/x-python",
   "name": "python",
   "nbconvert_exporter": "python",
   "pygments_lexer": "ipython3",
   "version": "3.9.12"
  },
  "orig_nbformat": 4
 },
 "nbformat": 4,
 "nbformat_minor": 2
}
