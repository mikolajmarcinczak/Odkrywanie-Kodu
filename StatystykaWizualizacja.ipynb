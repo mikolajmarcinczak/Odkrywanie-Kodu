{
 "cells": [
  {
   "cell_type": "code",
   "execution_count": 3,
   "metadata": {},
   "outputs": [],
   "source": [
    "def mean(seq):\n",
    "    return sum(seq)/len(seq)\n",
    "\n",
    "data = [-1, 6, 8, 4, -7, -3, 14, -11, -13, 2]"
   ]
  },
  {
   "cell_type": "code",
   "execution_count": 20,
   "metadata": {},
   "outputs": [
    {
     "data": {
      "image/png": "[encoded data removed]",
      "text/plain": [
       "<Figure size 432x288 with 1 Axes>"
      ]
     },
     "metadata": {
      "needs_background": "light"
     },
     "output_type": "display_data"
    },
    {
     "data": {
      "text/plain": [
       "-0.1"
      ]
     },
     "execution_count": 20,
     "metadata": {},
     "output_type": "execute_result"
    }
   ],
   "source": [
    "import matplotlib.pyplot as plt\n",
    "\n",
    "meanl = [mean(data)]*len(data)\n",
    "\n",
    "fig, ax = plt.subplots()\n",
    "data_p = ax.bar(range(10), data, label='data')\n",
    "mean_p = ax.plot(range(10), meanl, label='mean', linestyle='--', color='red')\n",
    "legend = ax.legend(loc='lower left')\n",
    "\n",
    "plt.show()\n",
    "\n",
    "mean(data)"
   ]
  },
  {
   "cell_type": "code",
   "execution_count": 38,
   "metadata": {},
   "outputs": [
    {
     "data": {
      "text/plain": [
       "0.5"
      ]
     },
     "execution_count": 38,
     "metadata": {},
     "output_type": "execute_result"
    }
   ],
   "source": [
    "# median(a) = (a[l/2]+a[l/2+0.5])/2\n",
    "def median(data):\n",
    "    med_l = sorted(data)\n",
    "    ind_l = (len(data) - 1) // 2\n",
    "    \n",
    "    if len(data) % 2:\n",
    "        return med_l[ind_l]\n",
    "    else:        \n",
    "        return (med_l[ind_l] + med_l[ind_l + 1])/2\n",
    "\n",
    "median(data)"
   ]
  },
  {
   "cell_type": "code",
   "execution_count": 39,
   "metadata": {},
   "outputs": [
    {
     "data": {
      "text/plain": [
       "4"
      ]
     },
     "execution_count": 39,
     "metadata": {},
     "output_type": "execute_result"
    }
   ],
   "source": [
    "median([1,2,3,4,5,5,5])"
   ]
  },
  {
   "cell_type": "code",
   "execution_count": 89,
   "metadata": {},
   "outputs": [
    {
     "data": {
      "text/plain": [
       "[3, 6, 10]"
      ]
     },
     "execution_count": 89,
     "metadata": {},
     "output_type": "execute_result"
    }
   ],
   "source": [
    "def multiMode(data, n):\n",
    "    max_d = max(data)\n",
    "    count = [0] * (max_d + 1)\n",
    "    \n",
    "    for i in range(n):\n",
    "        count[data[i]] += 1\n",
    "        \n",
    "    res = count[0]\n",
    "    for i in range(1, max_d + 1):\n",
    "        if count[i] > res:\n",
    "            res = count[i] \n",
    "            \n",
    "    resMode = []\n",
    "    for i in range(len(count)):\n",
    "        if count[i] == res:\n",
    "            resMode.append(i)\n",
    "        \n",
    "    return resMode\n",
    "\n",
    "        \n",
    "arr = [3, 3, 7, 8, 10, 10, 6, 6]\n",
    "multiMode(arr, len(arr))"
   ]
  },
  {
   "cell_type": "code",
   "execution_count": 103,
   "metadata": {},
   "outputs": [
    {
     "name": "stdout",
     "output_type": "stream",
     "text": [
      "12.75\n",
      "3.5707\n"
     ]
    }
   ],
   "source": [
    "def variance(data):\n",
    "    mean_d = mean(data)\n",
    "    return sum([(value-mean_d) ** 2 for value in data])/len(data)\n",
    "\n",
    "def stdev(data):\n",
    "    return variance(data) ** 0.5\n",
    "\n",
    "print(variance([1, 1, 7, 9]))\n",
    "print(round(stdev([1,1, 7, 9]),4))"
   ]
  },
  {
   "cell_type": "code",
   "execution_count": 1,
   "metadata": {},
   "outputs": [
    {
     "data": {
      "text/plain": [
       "[1, 1, 1, 1, 1, 1, 2, 2, 2, 2, 2, 2, 2, 2, 3, 3, 3, 3, 4, 4]"
      ]
     },
     "execution_count": 1,
     "metadata": {},
     "output_type": "execute_result"
    }
   ],
   "source": [
    "_set = [1] * 6 + [2] * 8 + [3] * 4 + [4] * 2\n",
    "_set"
   ]
  },
  {
   "cell_type": "code",
   "execution_count": 7,
   "metadata": {},
   "outputs": [
    {
     "data": {
      "text/plain": [
       "[0, 6, 8, 4, 2]"
      ]
     },
     "execution_count": 7,
     "metadata": {},
     "output_type": "execute_result"
    }
   ],
   "source": [
    "def countInstances(data):\n",
    "    maxV = max(data)\n",
    "    count = [0] * (maxV + 1)\n",
    "\n",
    "    for i in range(len(data)):\n",
    "        count[data[i]] += 1\n",
    "        \n",
    "    return count\n",
    "\n",
    "countInstances(_set)"
   ]
  },
  {
   "cell_type": "code",
   "execution_count": 8,
   "metadata": {},
   "outputs": [
    {
     "data": {
      "text/plain": [
       "[0.0, 0.3, 0.4, 0.2, 0.1]"
      ]
     },
     "execution_count": 8,
     "metadata": {},
     "output_type": "execute_result"
    }
   ],
   "source": [
    "def probability(data):\n",
    "    return [element/len(data) for element in countInstances(data)]\n",
    "\n",
    "probability(_set)"
   ]
  },
  {
   "cell_type": "code",
   "execution_count": null,
   "metadata": {},
   "outputs": [],
   "source": []
  }
 ],
 "metadata": {
  "kernelspec": {
   "display_name": "Python 3.9.12 ('base')",
   "language": "python",
   "name": "python3"
  },
  "language_info": {
   "codemirror_mode": {
    "name": "ipython",
    "version": 3
   },
   "file_extension": ".py",
   "mimetype": "text/x-python",
   "name": "python",
   "nbconvert_exporter": "python",
   "pygments_lexer": "ipython3",
   "version": "3.9.12"
  },
  "orig_nbformat": 4,
  "vscode": {
   "interpreter": {
    "hash": "ad2bdc8ecc057115af97d19610ffacc2b4e99fae6737bb82f5d7fb13d2f2c186"
   }
  }
 },
 "nbformat": 4,
 "nbformat_minor": 2
}
