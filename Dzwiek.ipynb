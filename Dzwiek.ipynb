{
 "cells": [
  {
   "cell_type": "code",
   "execution_count": 1,
   "metadata": {},
   "outputs": [
    {
     "ename": "KeyboardInterrupt",
     "evalue": "",
     "output_type": "error",
     "traceback": [
      "\u001b[1;31m---------------------------------------------------------------------------\u001b[0m",
      "\u001b[1;31mKeyboardInterrupt\u001b[0m                         Traceback (most recent call last)",
      "\u001b[1;32me:\\Programming\\Python\\Odkrywanie Kodu\\Dzwiek.ipynb Cell 1'\u001b[0m in \u001b[0;36m<cell line: 16>\u001b[1;34m()\u001b[0m\n\u001b[0;32m     <a href='vscode-notebook-cell:/e%3A/Programming/Python/Odkrywanie%20Kodu/Dzwiek.ipynb#ch0000000?line=24'>25</a>\u001b[0m     winsound\u001b[39m.\u001b[39mBeep(\u001b[39m185\u001b[39m, \u001b[39m590\u001b[39m) \u001b[39m# E\u001b[39;00m\n\u001b[0;32m     <a href='vscode-notebook-cell:/e%3A/Programming/Python/Odkrywanie%20Kodu/Dzwiek.ipynb#ch0000000?line=25'>26</a>\u001b[0m     i \u001b[39m+\u001b[39m\u001b[39m=\u001b[39m \u001b[39m1\u001b[39m\n\u001b[1;32m---> <a href='vscode-notebook-cell:/e%3A/Programming/Python/Odkrywanie%20Kodu/Dzwiek.ipynb#ch0000000?line=26'>27</a>\u001b[0m winsound\u001b[39m.\u001b[39;49mBeep(\u001b[39m330\u001b[39;49m,\u001b[39m448\u001b[39;49m)\n\u001b[0;32m     <a href='vscode-notebook-cell:/e%3A/Programming/Python/Odkrywanie%20Kodu/Dzwiek.ipynb#ch0000000?line=27'>28</a>\u001b[0m time\u001b[39m.\u001b[39msleep(\u001b[39m0.142\u001b[39m)\n\u001b[0;32m     <a href='vscode-notebook-cell:/e%3A/Programming/Python/Odkrywanie%20Kodu/Dzwiek.ipynb#ch0000000?line=28'>29</a>\u001b[0m j \u001b[39m+\u001b[39m\u001b[39m=\u001b[39m \u001b[39m1\u001b[39m\n",
      "\u001b[1;31mKeyboardInterrupt\u001b[0m: "
     ]
    }
   ],
   "source": [
    "import winsound\n",
    "import time\n",
    "\n",
    "j = 0 \n",
    "while j < 8:\n",
    "    i = 0\n",
    "    while i < 3:\n",
    "        winsound.Beep(82, 1180) # E\n",
    "        i += 1\n",
    "        \n",
    "    winsound.Beep(104, 520) # G#\n",
    "    winsound.Beep(93, 590) # F#\n",
    "    time.sleep(0.070)\n",
    "    j += 1\n",
    "    \n",
    "j = 0\n",
    "while j < 8:\n",
    "    i = 0\n",
    "    while i < 3:\n",
    "        winsound.Beep(185, 590) # F#\n",
    "        i += 1\n",
    "    time.sleep(0.142)\n",
    "    winsound.Beep(78, 448) # D#\n",
    "    i = 0\n",
    "    while i < 3:\n",
    "        winsound.Beep(185, 590) # F#\n",
    "        i += 1\n",
    "    winsound.Beep(330,448) # E\n",
    "    time.sleep(0.142)\n",
    "    j += 1"
   ]
  },
  {
   "cell_type": "code",
   "execution_count": 18,
   "metadata": {},
   "outputs": [],
   "source": [
    "winsound.Beep(262,500)\n",
    "winsound.Beep(277,500)\n",
    "winsound.Beep(294,500)\n",
    "winsound.Beep(311,500)\n",
    "winsound.Beep(330,500)\n",
    "winsound.Beep(349,500)\n",
    "winsound.Beep(370,500)\n",
    "winsound.Beep(392,500)\n",
    "winsound.Beep(415,500)\n",
    "winsound.Beep(440,500)\n",
    "winsound.Beep(466,500)\n",
    "winsound.Beep(493,500)\n",
    "winsound.Beep(523,500)"
   ]
  },
  {
   "cell_type": "code",
   "execution_count": null,
   "metadata": {},
   "outputs": [],
   "source": [
    "'https://greggman.com/downloads/examples/html5bytebeat/html5bytebeat.html'\n",
    "#For 11kHz bytebeat, I created the following sequence:\n",
    "(t>>((t*2>>4.8>>8<<2)*3)*t<<3.2*t)>>2<<0.25\n",
    "\n",
    "#8kHz Hellish noise\n",
    "(t*3/2+t*1/2)**2 - sqrt(t)/8 + sin(t>>3) - sqrt(cos(t*4))\n",
    "\n",
    "#8kHz downtempo\n",
    "((t>>10) & 42 | 3)*t&142|6"
   ]
  }
 ],
 "metadata": {
  "kernelspec": {
   "display_name": "Python 3.10.4 64-bit",
   "language": "python",
   "name": "python3"
  },
  "language_info": {
   "codemirror_mode": {
    "name": "ipython",
    "version": 3
   },
   "file_extension": ".py",
   "mimetype": "text/x-python",
   "name": "python",
   "nbconvert_exporter": "python",
   "pygments_lexer": "ipython3",
   "version": "3.10.4"
  },
  "orig_nbformat": 4,
  "vscode": {
   "interpreter": {
    "hash": "26de051ba29f2982a8de78e945f0abaf191376122a1563185a90213a26c5da77"
   }
  }
 },
 "nbformat": 4,
 "nbformat_minor": 2
}
