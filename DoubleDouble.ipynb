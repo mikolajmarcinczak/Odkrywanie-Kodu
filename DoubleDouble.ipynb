{
 "cells": [
  {
   "cell_type": "code",
   "execution_count": 42,
   "metadata": {},
   "outputs": [
    {
     "data": {
      "text/plain": [
       "[-6.0, 8, -13.32, 274, 4000000.0]"
      ]
     },
     "execution_count": 42,
     "metadata": {},
     "output_type": "execute_result"
    }
   ],
   "source": [
    "#multiply() zwraca pomnożone(domyślnie o 2) wartości dla zadanej sekwencji lub liczby\n",
    "def multiply(multiplicand, multiplier=2):\n",
    "    result = list()\n",
    "    if(type(multiplicand) == list):\n",
    "        for element in multiplicand:\n",
    "            result.append(element * multiplier)\n",
    "    else:\n",
    "        return multiplicand*multiplier\n",
    "    return result\n",
    "multiply([-3., 4, -6.66, 137, 2e+06])"
   ]
  },
  {
   "cell_type": "code",
   "execution_count": 43,
   "metadata": {},
   "outputs": [
    {
     "data": {
      "text/plain": [
       "array([ 0,  2,  4,  6,  8, 10, 12])"
      ]
     },
     "execution_count": 43,
     "metadata": {},
     "output_type": "execute_result"
    }
   ],
   "source": [
    "from random import randint\n",
    "from numpy import arange\n",
    "multiply(arange(randint(2, 8)))"
   ]
  },
  {
   "cell_type": "code",
   "execution_count": 45,
   "metadata": {},
   "outputs": [
    {
     "name": "stdout",
     "output_type": "stream",
     "text": [
      "[12, 24, 48]\n",
      "12\n"
     ]
    }
   ],
   "source": [
    "print(multiply(multiply([2, 4, 8]), 3))\n",
    "print(multiply(6))"
   ]
  },
  {
   "cell_type": "code",
   "execution_count": 47,
   "metadata": {},
   "outputs": [],
   "source": [
    "#wersja ulepszona (dwukrotnie mniejszy czas wykonania)\n",
    "def multiply(multiplicand, multiplier=2):\n",
    "    return [element*multiplier for element in multiplicand] if type(multiplicand) == list else multiplicand*multiplier"
   ]
  },
  {
   "cell_type": "code",
   "execution_count": 48,
   "metadata": {},
   "outputs": [
    {
     "name": "stdout",
     "output_type": "stream",
     "text": [
      "[12, 24, 48]\n",
      "12\n"
     ]
    }
   ],
   "source": [
    "print(multiply(multiply([2, 4, 8]), 3))\n",
    "print(multiply(6))"
   ]
  },
  {
   "cell_type": "markdown",
   "metadata": {},
   "source": [
    "SPEEDTEST"
   ]
  },
  {
   "cell_type": "code",
   "execution_count": 49,
   "metadata": {},
   "outputs": [
    {
     "name": "stdout",
     "output_type": "stream",
     "text": [
      "[12, 24, 48]\n",
      "12\n"
     ]
    }
   ],
   "source": [
    "def multiply(multiplicand, multiplier=2):\n",
    "    result = list()\n",
    "    if(type(multiplicand) == list):\n",
    "        for element in multiplicand:\n",
    "            result.append(element * multiplier)\n",
    "    else:\n",
    "        return multiplicand*multiplier\n",
    "    return result\n",
    "print(multiply(multiply([2, 4, 8]), 3))\n",
    "print(multiply(6))"
   ]
  },
  {
   "cell_type": "code",
   "execution_count": 51,
   "metadata": {},
   "outputs": [
    {
     "name": "stdout",
     "output_type": "stream",
     "text": [
      "[12, 24, 48]\n",
      "12\n"
     ]
    }
   ],
   "source": [
    "def multiply(multiplicand, multiplier=2):\n",
    "    return [element*multiplier for element in multiplicand] if type(multiplicand) in (list, tuple, set) else multiplicand*multiplier\n",
    "print(multiply(multiply([2, 4, 8]), 3))\n",
    "print(multiply(6))"
   ]
  }
 ],
 "metadata": {
  "interpreter": {
   "hash": "ad2bdc8ecc057115af97d19610ffacc2b4e99fae6737bb82f5d7fb13d2f2c186"
  },
  "kernelspec": {
   "display_name": "Python 3.9.12 ('base')",
   "language": "python",
   "name": "python3"
  },
  "language_info": {
   "codemirror_mode": {
    "name": "ipython",
    "version": 3
   },
   "file_extension": ".py",
   "mimetype": "text/x-python",
   "name": "python",
   "nbconvert_exporter": "python",
   "pygments_lexer": "ipython3",
   "version": "3.9.12"
  },
  "orig_nbformat": 4
 },
 "nbformat": 4,
 "nbformat_minor": 2
}
