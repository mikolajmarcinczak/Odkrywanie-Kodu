{
 "cells": [
  {
   "cell_type": "code",
   "execution_count": 10,
   "metadata": {},
   "outputs": [],
   "source": [
    "from processing_py import *\n",
    "import random"
   ]
  },
  {
   "cell_type": "code",
   "execution_count": 15,
   "metadata": {},
   "outputs": [
    {
     "name": "stderr",
     "output_type": "stream",
     "text": [
      "Starting App...\n",
      ">> [Jython] Created!\n",
      "\n"
     ]
    }
   ],
   "source": [
    "app = App(600, 600)\n",
    "x = 0\n",
    "y = 0\n",
    "shade = 0\n",
    "diff = 1\n",
    "\n",
    "def draw(shade, x, y, sx, sy):\n",
    "    #epilepsy warning\n",
    "    app.fill(shade,(x/2)*random.randint(1, 2), (x/3))\n",
    "    app.rect(x, y, sx, sy)\n",
    "\n",
    "flag_x = 0\n",
    "flag_y = 0\n",
    "\n",
    "#around 4 minutes\n",
    "while not (shade == 255 and x <= 10):\n",
    "    app.background(127)\n",
    "    draw(shade, x, 100, 100, 400)\n",
    "    draw(shade, x + 60, y, 40, 40)\n",
    "    draw(shade, 400, y, 60, 60)\n",
    "    \n",
    "    shade += diff\n",
    "    if shade == 255:\n",
    "        diff = -1\n",
    "    if shade == 0:\n",
    "        diff = 1\n",
    "    \n",
    "    app.redraw()\n",
    "    \n",
    "    if x == app.width-100 or x == -1:\n",
    "        flag_x = not flag_x\n",
    "    \n",
    "    if flag_x == 0:\n",
    "        x += 1\n",
    "    else:\n",
    "        x -= 1\n",
    "        \n",
    "    if y == app.height - 50 or y == -1:\n",
    "        flag_y = not flag_y\n",
    "        \n",
    "    if flag_y == 0:\n",
    "        y += 1\n",
    "    else:\n",
    "        y -= 1\n",
    "\n",
    "app.exit()"
   ]
  },
  {
   "cell_type": "code",
   "execution_count": null,
   "metadata": {},
   "outputs": [],
   "source": []
  }
 ],
 "metadata": {
  "kernelspec": {
   "display_name": "Python 3.9.12 ('base')",
   "language": "python",
   "name": "python3"
  },
  "language_info": {
   "codemirror_mode": {
    "name": "ipython",
    "version": 3
   },
   "file_extension": ".py",
   "mimetype": "text/x-python",
   "name": "python",
   "nbconvert_exporter": "python",
   "pygments_lexer": "ipython3",
   "version": "3.9.12"
  },
  "orig_nbformat": 4,
  "vscode": {
   "interpreter": {
    "hash": "ad2bdc8ecc057115af97d19610ffacc2b4e99fae6737bb82f5d7fb13d2f2c186"
   }
  }
 },
 "nbformat": 4,
 "nbformat_minor": 2
}
